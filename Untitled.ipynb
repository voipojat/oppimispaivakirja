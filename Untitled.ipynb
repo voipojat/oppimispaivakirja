{
 "cells": [
  {
   "cell_type": "markdown",
   "metadata": {},
   "source": [
    "# JODA-oppimispäiväkirja\n",
    "\n",
    "# Anton Tuominen"
   ]
  },
  {
   "cell_type": "markdown",
   "metadata": {},
   "source": [
    "#    Viikko 1 - Mitä on datatiede?"
   ]
  },
  {
   "cell_type": "markdown",
   "metadata": {},
   "source": [
    "Osallistuin ensimmäisen viikon opetukseen hieman jälkijunassa työkiireiden vuoksi. Hyödynsin päiväkirjan laatimisessa luentovideota sekä luennon Jupyter-notebookkia.\n",
    "\n",
    "Tällä luentoviikolla käsiteltiin datatieteen määritelmää ja siihen liittyviä työvälineitä. Datatiede itsessään ei ole yhden tekijän summa, vaan se rakentuu erilaisista kokonaisuuksista: liiketoimintaosaamisesta, ohjelmointi – ja tietokantaosaamisesta, tilastollisesta analyysista sekä datalähtöisestä viestinnästä ja visualisoinnista. \n",
    "\n",
    "Datatieteen kehityksessä avainasemassa olivat kehittyneet kehitystyökalut sekä laskentatehon kasvaminen. Iso muutos oli, kun R -ohjelmointiympäristöstä siirryttiin Pythoniin. Toisin sanoen tilastolliseen laskentaan ja grafiikan tuottamiseen voitiin nyt myös yhdistää Pythonin kautta koneoppiminen. \n",
    "\n",
    "Luennolla käsiteltiin myös datan eettisyyteen liittyviä ihmisoikeuskysymyksiä; kenellä on pääsy tähän dataan? Nykypäivänä monet internet-sivut pyytävät käyttäjää hyväksymään evästeet, ennen kuin sivulla voi tehdä mitään. Nämä evästeet keräävät käyttäjästä valtavasti dataa. Esimerkiksi verkkokaupassa tekemä ostos saa aikaan sen, että käyttäjä näkee mainoksia eri sivuilla viimeisimmän ostoksensa kauppapaikasta. Tämä tapahtuu usein niin, että kauppapaikan omistaja maksaa Googlelle mainoksen näyttämisestä.\n",
    "\n",
    "**Viisi oivallusta**\n",
    "* Datatiede rakentuu neljästä laajasta kokonaisuudesta\n",
    "* 80% Data Scientistin ajasta kuluu datan siivoamiseen\n",
    "* Laskentateho on kasvanut valtavasti 1970-luvulta tähän päivään\n",
    "* Algoritmeilla voidaan ohjata monien elämää\n",
    "* Datafikaatio haastaa ihmisten yksityisyyden\n",
    "\n",
    "**Kehityskohde**: Kehitysympäristöjen käytöstä ja asentamisesta olisi voinut ehkä olla enemmän ohjeistusta. \n",
    "\n",
    "**Koodiesimerkki**: Käytin koodiesimerkin tekemisessä apuna ensimmäistä demosessiota. Tavoitteena koodissa on muuttaa haluttujen attribuuttien datatyyppejä."
   ]
  },
  {
   "cell_type": "code",
   "execution_count": null,
   "metadata": {},
   "outputs": [],
   "source": [
    "import pandas as pd\n",
    "\n",
    "url = 'https://github.com/jodatut/2020/raw/master/koodiesimerkit/SalesJan2009.csv'\n",
    "\n",
    "# Käytetään pandas-kirjastoa datan lukemiseen\n",
    "orig_df = pd.read_csv(url)\n",
    "\n",
    "df = orig_df.copy()\n",
    "print('List of attributes:', df.columns.values.tolist())\n",
    "\n",
    "print(df.head())\n",
    "print(df.dtypes)\n",
    "# Muutetaan attribuuttien datatyypit\n",
    "df['Transaction_date'] = pd.to_datetime(df['Transaction_date'])\n",
    "df['Account_Created'] = pd.to_datetime(df['Account_Created'])\n",
    "df['Last_Login'] = pd.to_datetime(df['Last_Login'])\n",
    "\n",
    "print(df.dtypes)"
   ]
  },
  {
   "cell_type": "markdown",
   "metadata": {},
   "source": [
    "# Viikko 2 - Datan kerääminen ja jalostaminen"
   ]
  },
  {
   "cell_type": "markdown",
   "metadata": {},
   "source": [
    "Osallistuin toisen luentoviikon opetukseen katsomalla luentovideon jälkikäteen. Hyödynsin päiväkirjan laatimisessa luentovideota, luennon Jupyter-notebookkia sekä artikkelia asiakaspoistuma-analyysista (https://bilot.group/articles/asiakaspoistuma-analyysi-ja-miljoona-lisamyyntia/).\n",
    "\n",
    "Tällä luentoviikolla käsiteltiin datatieteen työprosessia, data-analytiikan liiketoimintarelevanssia, datan keruun menetelmiä sekä datan muotoja.\n",
    "\n",
    "Philip Guon mukaan datatieteen työprosessi koostuu neljästä päävaiheesta: datan esikäsittelystä (kerääminen, siivoaminen, jalostaminen), analyysin ja tulosten vertailusta ja sekä lopuksi tulosten esittämisestä sopivassa muodossa vastaanottajalle.  \n",
    "\n",
    "Liiketoimintarelevanssin kannalta data-analytiikka on avainasemassa, kun katsotaan yrityksen suorituskykyä. Bilot Groupin artikkelissa käydään läpi, miten asiakaspoistuma-analyysi voi olla hyvinkin tuottoisa yritykselle. Pieni investointi analyysiin voi johtaa huimiin tuottoihin, jos analyysin tulosten perusteella asiakkaiden poistumaa voidaan pudottaa. Artikkelin mukaan yllättävän harva yritys hyödyntää asiakaspoistuma-analyysia. Syyt tähän voivat johtua tietämättömyydestä tai itsepetoksesta; ei kuvitella, että asiakkaan lähtöön vaikuttaisi mikään muu kuin tuotteen hinta. \n",
    "\n",
    "**Viisi oivallusta**\n",
    "*\tData-analytiikka on liiketoiminnan kannalta hyvinkin relevantti asia\n",
    "*\tRyömijän tarkoituksena on yleisesti sivujen indeksointi\n",
    "*\tRaapija hyödyntää sivuston metaelementtejä käyttäjää kiinnostavan tiedon tallentamiseen\n",
    "*\tDatainsinöörit keskittyvät dataan liittyviin algoritmeihin, arkkitehtuuriin sekä pitävät huolen siitä, että data kulkee vaivattomasti lähteen ja määränpään välillä \n",
    "*\tDatatieteilijät keskittyvät enemmän tilastolliseen analyysiin saadusta datasta\n",
    " \n",
    "**Kehityskohde:** Analytiikkatyypeistä olisi ehkä voinut olla enemmän esimerkkejä\n",
    "\n",
    "**Koodiesimerkki:** Luentoviikolla käsiteltiin raapijoita, joten päätin tehdä yksinkertaisen RedditSpiderin, joka    Scrappya hyödyntäen hakee etusivun postauksien otsikoita.\n"
   ]
  },
  {
   "cell_type": "code",
   "execution_count": null,
   "metadata": {},
   "outputs": [],
   "source": [
    "import scrapy\n",
    "\n",
    "class RedditSpider(scrapy.Spider):\n",
    "    name = \"reddit\"\n",
    "    start_urls = ['https://www.reddit.com/']\n",
    "\n",
    "    def parse(self, response):\n",
    "        for title in response.css('h3'):\n",
    "\n",
    "            yield {\n",
    "                'title': title.css('::text').extract()\n",
    "            }"
   ]
  },
  {
   "cell_type": "markdown",
   "metadata": {},
   "source": [
    "# Viikko 3 - Koneoppimisen periaatteet"
   ]
  },
  {
   "cell_type": "markdown",
   "metadata": {},
   "source": [
    "Osallistuin kolmannen viikon opetukseen katsomalla luentovideon jälkikäteen. Hyödynsin päiväkirjan laatimisessa luentovideota sekä luennon Jupyter-notebookkia.\n",
    "\n",
    "Tällä luentoviikolla käsiteltiin koneoppimisen periaatteita, piirteiden suunnittelua sekä yhtä koneoppimisalgoritmien tyyppiä, ohjattua oppimista.\n",
    "\n",
    "Ohjatussa oppimisessa algoritmia opetetaan valmiiksi luokitellulla opetusdatalla. Tämä piirteiden (ennustavien muuttujien) erottelu raakadatasta on voitu tehdä joko automatisoidusti tai piirteet on voitu kehitellä ja suunnitella asiantuntijatyönä. \n",
    "Piirteiden erottelun jälkeen voidaan laatia piirrematriisi; sarakkeet piirteitä, rivit yksittäisiä havaintoja. Tässä vaiheessa siirrytään varsinaiseen opetusvaiheeseen, jonka seurauksena muodostuu malli, jota käyttäen voidaan ennustaa haluttua asiaa.\n",
    "\n",
    "Käytännön esimerkki voisi olla mobiilioperaattorin asiakaspoistuma-analyysi, jonka avulla halutaan ennustaa, kuka asiakkaista tulee todennäköisesti poistumaan. Opetusdatana toimii esimerkiksi asiakkaiden henkilötiedot ja tilaukset sekä tieto siitä, kuka on poistunut ja kuka ei. Tämä data käsitellään ja kehitetään algoritmi, johon voidaan syöttää uutta dataa, ja näin saadaan ennustuksia asiakkaiden poistumistodennäköisyyksistä. \n",
    "\n",
    "Isoin aika tällaisten mallien kehittelyssä menee piirteiden suunnitteluun ja jalostukseen, jos piirteitä ei erotella automatisoidusti. ”Feature engineering” on olennainen osa koneoppimisen kehitystyötä, eräänlainen taiteenlaji. Asiantuntijuudella aineistosta voidaan alkaa tuottamaan laadukkaita piirteitä, jotka soveltuvat hyvin koneoppimistehtävään. Toisin sanoen kokemuksella pystyy vaikuttamaan algoritmin suorituskykyyn merkittävästi. \n",
    "\n",
    "**Viisi oivallusta**\n",
    "*   Algoritmia voidaan parantaa piirteitä jalostamalla\n",
    "*\tKun toimitaan ei-teknisten ihmisten kanssa, on tärkeää, että algoritmi on yksinkertainen ja ymmärrettävä\n",
    "*\tFeature engineering olennainen osa koneoppimisen kehitystyötä\n",
    "*\tKoneoppimismallien ennustuskyky on parantunut merkittävästi, mutta mallien yksityiskohdat eivät aina avaudu ihmistulkitsijalle\n",
    "*\tOpetusdatasetit ovat tekoälyajan tärkein resurssi\n",
    "\n",
    "**Kehityskohde:** Luentojen esitysmateriaalin rakenteeseen voisi tehdä muutoksia, sillä se on toisinaan raskasta luettavaa pitkien koodi-outputtien takia.\n",
    "\n",
    "**Koodiesimerkki** Päätin hyödyntää kolmannen demosession oppeja, ja poistin piirteitä Airbnb-asuntojen datasetistä, sekä siivosin sitä. \n"
   ]
  },
  {
   "cell_type": "code",
   "execution_count": null,
   "metadata": {},
   "outputs": [],
   "source": [
    "import numpy as np\n",
    "import matplotlib.pyplot as plt\n",
    "import pandas as pd\n",
    "from sklearn import preprocessing\n",
    "from sklearn.impute import SimpleImputer as Imputer\n",
    "from sklearn.model_selection import train_test_split, cross_val_score\n",
    "from sklearn.metrics import mean_squared_error, accuracy_score\n",
    "from sklearn.linear_model import SGDClassifier, LogisticRegression\n",
    "from sklearn.svm import SVC\n",
    "\n",
    "from warnings import filterwarnings\n",
    "filterwarnings('ignore')\n",
    "\n",
    "df = pd.read_csv(\"listings.csv\")\n",
    "# Poistetaan kolme piirrettä\n",
    "cols_to_remove = ['listing_url', 'scrape_id', 'last_scraped']\n",
    "data = df.drop(cols_to_remove, axis=1)\n",
    "\n",
    "# Korvataan tyhjät arvot sarakkeen keskiarvolla\n",
    "cols_to_clean =['review_scores_location', 'reviews_per_month']\n",
    "\n",
    "imputer = Imputer()\n",
    "data[cols_to_clean] = imputer.fit_transform(data[cols_to_clean])\n",
    "data[cols_to_clean] = data[cols_to_clean].astype(int)\n",
    "# Poistetaan kaikki rivit, joilla on vielä ainakin yksi NaN arvo\n",
    "data.dropna()\n",
    "\n",
    "data.head(100)"
   ]
  }
 ],
 "metadata": {
  "kernelspec": {
   "display_name": "Python 3",
   "language": "python",
   "name": "python3"
  },
  "language_info": {
   "codemirror_mode": {
    "name": "ipython",
    "version": 3
   },
   "file_extension": ".py",
   "mimetype": "text/x-python",
   "name": "python",
   "nbconvert_exporter": "python",
   "pygments_lexer": "ipython3",
   "version": "3.8.5"
  }
 },
 "nbformat": 4,
 "nbformat_minor": 4
}
